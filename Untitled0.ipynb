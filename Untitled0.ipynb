{
  "nbformat": 4,
  "nbformat_minor": 0,
  "metadata": {
    "colab": {
      "name": "Untitled0.ipynb",
      "provenance": [],
      "collapsed_sections": [],
      "authorship_tag": "ABX9TyPsnNUF0k1JrLdjJJWLPqgt",
      "include_colab_link": true
    },
    "kernelspec": {
      "name": "python3",
      "display_name": "Python 3"
    }
  },
  "cells": [
    {
      "cell_type": "markdown",
      "metadata": {
        "id": "view-in-github",
        "colab_type": "text"
      },
      "source": [
        "<a href=\"https://colab.research.google.com/github/jahanavi00/1st-year-c-coding-/blob/master/Untitled0.ipynb\" target=\"_parent\"><img src=\"https://colab.research.google.com/assets/colab-badge.svg\" alt=\"Open In Colab\"/></a>"
      ]
    },
    {
      "cell_type": "code",
      "metadata": {
        "id": "Sj_Loe8GrtXt"
      },
      "source": [
        ""
      ],
      "execution_count": null,
      "outputs": []
    },
    {
      "cell_type": "markdown",
      "metadata": {
        "id": "UYvObW81r57x"
      },
      "source": [
        "hello world program\r\n"
      ]
    },
    {
      "cell_type": "code",
      "metadata": {
        "colab": {
          "base_uri": "https://localhost:8080/"
        },
        "id": "Uul0z5czsBwP",
        "outputId": "a5c4c8d9-f34f-4738-ed86-e177b7710403"
      },
      "source": [
        "print(\"hello world\")"
      ],
      "execution_count": null,
      "outputs": [
        {
          "output_type": "stream",
          "text": [
            "hello world\n"
          ],
          "name": "stdout"
        }
      ]
    },
    {
      "cell_type": "code",
      "metadata": {
        "colab": {
          "base_uri": "https://localhost:8080/"
        },
        "id": "IhhCvWSduc-0",
        "outputId": "147a43ff-12a9-493b-b837-fbcd6a2c74ea"
      },
      "source": [
        "x=6\r\n",
        "x=\"jahanavi\"\r\n",
        "print(x)\r\n"
      ],
      "execution_count": null,
      "outputs": [
        {
          "output_type": "stream",
          "text": [
            "jahanavi\n"
          ],
          "name": "stdout"
        }
      ]
    },
    {
      "cell_type": "code",
      "metadata": {
        "colab": {
          "base_uri": "https://localhost:8080/"
        },
        "id": "yO4s6mCLw0PS",
        "outputId": "a00c9e31-1bd6-4540-a813-4d1f7b349a78"
      },
      "source": [
        "print(int(.5333))"
      ],
      "execution_count": null,
      "outputs": [
        {
          "output_type": "stream",
          "text": [
            "0\n"
          ],
          "name": "stdout"
        }
      ]
    },
    {
      "cell_type": "code",
      "metadata": {
        "colab": {
          "base_uri": "https://localhost:8080/"
        },
        "id": "wwCER_WRxiaY",
        "outputId": "0a831ef1-3cb9-4d22-c540-561ae7571bea"
      },
      "source": [
        "x,y,z=\"orange\",\"strawberry\",\"kiwi\"\r\n",
        "print(x)\r\n",
        "print(y)\r\n",
        "print(z)\r\n",
        "x=y=z=\"orange\""
      ],
      "execution_count": null,
      "outputs": [
        {
          "output_type": "stream",
          "text": [
            "orange\n",
            "strawberry\n",
            "kiwi\n"
          ],
          "name": "stdout"
        }
      ]
    },
    {
      "cell_type": "code",
      "metadata": {
        "colab": {
          "base_uri": "https://localhost:8080/"
        },
        "id": "AuQpYiA1zDFY",
        "outputId": "494b02a4-b710-489c-8348-b8ad2ed0fd81"
      },
      "source": [
        "x,y,z=12,\"kiwi\",3.59\r\n",
        "print(x)\r\n",
        "print(y)\r\n",
        "print(z)"
      ],
      "execution_count": null,
      "outputs": [
        {
          "output_type": "stream",
          "text": [
            "12\n",
            "kiwi\n",
            "3.59\n"
          ],
          "name": "stdout"
        }
      ]
    },
    {
      "cell_type": "code",
      "metadata": {
        "colab": {
          "base_uri": "https://localhost:8080/"
        },
        "id": "STuIa7gk0Mza",
        "outputId": "cc1d3456-3957-453b-8a30-c9b1cc3c9407"
      },
      "source": [
        "x=\"mysterious\"\r\n",
        "print(\"pebble\"+x)\r\n"
      ],
      "execution_count": null,
      "outputs": [
        {
          "output_type": "stream",
          "text": [
            "pebblemysterious\n"
          ],
          "name": "stdout"
        }
      ]
    },
    {
      "cell_type": "code",
      "metadata": {
        "colab": {
          "base_uri": "https://localhost:8080/"
        },
        "id": "APl5aZik0hHD",
        "outputId": "94a0d82b-170d-4af5-f464-9f0355fdbf4f"
      },
      "source": [
        "x=7\r\n",
        "def funs():\r\n",
        "   y=x+1\r\n",
        "   print(y)\r\n",
        "funs()\r\n",
        "print(x)\r\n"
      ],
      "execution_count": null,
      "outputs": [
        {
          "output_type": "stream",
          "text": [
            "8\n",
            "7\n"
          ],
          "name": "stdout"
        }
      ]
    },
    {
      "cell_type": "markdown",
      "metadata": {
        "id": "2GO9Yd5B2AL5"
      },
      "source": [
        "# exercise 1"
      ]
    },
    {
      "cell_type": "code",
      "metadata": {
        "colab": {
          "base_uri": "https://localhost:8080/"
        },
        "id": "rPXQ5huf2JuL",
        "outputId": "61533b02-a4f4-4cba-b91f-724b0df2383d"
      },
      "source": [
        "carname=\"volvo\"\r\n",
        "print(carname)"
      ],
      "execution_count": null,
      "outputs": [
        {
          "output_type": "stream",
          "text": [
            "volvo\n"
          ],
          "name": "stdout"
        }
      ]
    },
    {
      "cell_type": "markdown",
      "metadata": {
        "id": "vLmQDtiB2ysy"
      },
      "source": [
        "# exercise 2"
      ]
    },
    {
      "cell_type": "code",
      "metadata": {
        "colab": {
          "base_uri": "https://localhost:8080/"
        },
        "id": "EwQwkZn822Uh",
        "outputId": "b1513b80-98fd-425e-ab4f-5fb802feca44"
      },
      "source": [
        "x=20\r\n",
        "print(x)"
      ],
      "execution_count": null,
      "outputs": [
        {
          "output_type": "stream",
          "text": [
            "20\n"
          ],
          "name": "stdout"
        }
      ]
    },
    {
      "cell_type": "markdown",
      "metadata": {
        "id": "WeVw4slV2-k6"
      },
      "source": [
        "# exercise 3"
      ]
    },
    {
      "cell_type": "code",
      "metadata": {
        "colab": {
          "base_uri": "https://localhost:8080/"
        },
        "id": "w7Uso4LJ3Cvb",
        "outputId": "9f4acb83-7bb9-4013-bb64-ee61528df715"
      },
      "source": [
        "x=12\r\n",
        "y=10\r\n",
        "x+y\r\n",
        "print(x+y)"
      ],
      "execution_count": null,
      "outputs": [
        {
          "output_type": "stream",
          "text": [
            "22\n"
          ],
          "name": "stdout"
        }
      ]
    },
    {
      "cell_type": "markdown",
      "metadata": {
        "id": "hG05qRGa3OSB"
      },
      "source": [
        "#exercise 4\r\n"
      ]
    },
    {
      "cell_type": "code",
      "metadata": {
        "colab": {
          "base_uri": "https://localhost:8080/"
        },
        "id": "6UCufujm5c5y",
        "outputId": "cf969743-d027-428a-faf7-a926f36fad6c"
      },
      "source": [
        "x=10\r\n",
        "y=6\r\n",
        "z=x+y\r\n",
        "print(z)"
      ],
      "execution_count": null,
      "outputs": [
        {
          "output_type": "stream",
          "text": [
            "16\n"
          ],
          "name": "stdout"
        }
      ]
    },
    {
      "cell_type": "code",
      "metadata": {
        "colab": {
          "base_uri": "https://localhost:8080/"
        },
        "id": "Vi3HvzIzD9bs",
        "outputId": "8f08d5ea-4f42-44db-e0ac-8b87d00fbe38"
      },
      "source": [
        "x=5\r\n",
        "print(type(x))"
      ],
      "execution_count": null,
      "outputs": [
        {
          "output_type": "stream",
          "text": [
            "<class 'int'>\n"
          ],
          "name": "stdout"
        }
      ]
    },
    {
      "cell_type": "code",
      "metadata": {
        "colab": {
          "base_uri": "https://localhost:8080/"
        },
        "id": "mkJEw6pnEi3r",
        "outputId": "b36d941b-0c1a-4a9a-8125-ed12bba533a8"
      },
      "source": [
        "x1 = \"Hello World\" #string\r\n",
        "x2 = 10\r\n",
        "x3 = 10.1\r\n",
        "x4 = [\"apple\",\"banana\",\"cherry\"] #list\r\n",
        "x5 = (\"apple\",\"banana\",\"cherry\") #tuple\r\n",
        "x6 = range(6) #range\r\n",
        "x7 = {\"name\" : \"Johnwick\",\"age\": 36} #dictionary\r\n",
        "x8 = {\"apple\",\"banana\",\"cherry\"} #set\r\n",
        "x9 = True #bool\r\n",
        "print(type(x1))\r\n",
        "print(type(x2))\r\n",
        "print(type(x3))\r\n",
        "print(type(x4))\r\n",
        "print(type(x6))\r\n",
        "print(type(x7))\r\n",
        "print(type(x8))\r\n",
        "print(type(x9))"
      ],
      "execution_count": null,
      "outputs": [
        {
          "output_type": "stream",
          "text": [
            "<class 'str'>\n",
            "<class 'int'>\n",
            "<class 'float'>\n",
            "<class 'list'>\n",
            "<class 'range'>\n",
            "<class 'dict'>\n",
            "<class 'set'>\n",
            "<class 'bool'>\n"
          ],
          "name": "stdout"
        }
      ]
    },
    {
      "cell_type": "code",
      "metadata": {
        "colab": {
          "base_uri": "https://localhost:8080/"
        },
        "id": "tAKq8-8LHoU1",
        "outputId": "67f8c9aa-1531-455f-f7fe-8febbd308f94"
      },
      "source": [
        "x=1\r\n",
        "y=35656222554887711\r\n",
        "z=3255522\r\n",
        "\r\n",
        "print(type(x))\r\n",
        "print(type(y))\r\n",
        "print(type(z))"
      ],
      "execution_count": null,
      "outputs": [
        {
          "output_type": "stream",
          "text": [
            "<class 'int'>\n",
            "<class 'int'>\n",
            "<class 'int'>\n"
          ],
          "name": "stdout"
        }
      ]
    },
    {
      "cell_type": "code",
      "metadata": {
        "colab": {
          "base_uri": "https://localhost:8080/"
        },
        "id": "qcZf_0giILMY",
        "outputId": "3be001e0-86ef-498b-cad7-82616366c602"
      },
      "source": [
        "x=3+6j\r\n",
        "print(type(x))"
      ],
      "execution_count": null,
      "outputs": [
        {
          "output_type": "stream",
          "text": [
            "<class 'complex'>\n"
          ],
          "name": "stdout"
        }
      ]
    },
    {
      "cell_type": "code",
      "metadata": {
        "colab": {
          "base_uri": "https://localhost:8080/"
        },
        "id": "ij1hYtr2KP0c",
        "outputId": "d7b1eb9f-5489-4557-d464-9f3f677ed1b0"
      },
      "source": [
        "x=range(1,5,2)\r\n",
        "print(list(x))"
      ],
      "execution_count": null,
      "outputs": [
        {
          "output_type": "stream",
          "text": [
            "[1, 3]\n"
          ],
          "name": "stdout"
        }
      ]
    },
    {
      "cell_type": "code",
      "metadata": {
        "colab": {
          "base_uri": "https://localhost:8080/"
        },
        "id": "i9vyvZ7BK3gu",
        "outputId": "c378c6cd-6d1d-47e4-e8a6-1815c5a0f067"
      },
      "source": [
        "x={\"A\",1,1.2}\r\n",
        "print(x)"
      ],
      "execution_count": null,
      "outputs": [
        {
          "output_type": "stream",
          "text": [
            "{1.2, 1, 'A'}\n"
          ],
          "name": "stdout"
        }
      ]
    },
    {
      "cell_type": "code",
      "metadata": {
        "id": "fDq8mau73RiB"
      },
      "source": [
        ""
      ],
      "execution_count": null,
      "outputs": []
    },
    {
      "cell_type": "code",
      "metadata": {
        "colab": {
          "base_uri": "https://localhost:8080/"
        },
        "id": "tngNQpiHLP8k",
        "outputId": "f2f7d5d5-af26-4e8e-a295-ddb45c8ab5ba"
      },
      "source": [
        "x={1,2,3,2}\r\n",
        "print(x)"
      ],
      "execution_count": null,
      "outputs": [
        {
          "output_type": "stream",
          "text": [
            "{1, 2, 3}\n"
          ],
          "name": "stdout"
        }
      ]
    },
    {
      "cell_type": "code",
      "metadata": {
        "colab": {
          "base_uri": "https://localhost:8080/"
        },
        "id": "beKRY7EmMd9t",
        "outputId": "c0a44ebd-a51c-4dfb-f752-5b56cc8d573a"
      },
      "source": [
        "x=1\r\n",
        "y=2.8\r\n",
        "z=1j\r\n",
        "\r\n",
        "a=float(x)\r\n",
        "b=int(y)\r\n",
        "c=complex(x)\r\n",
        "\r\n",
        "print(a)\r\n",
        "print(b)\r\n",
        "print(c)\r\n"
      ],
      "execution_count": null,
      "outputs": [
        {
          "output_type": "stream",
          "text": [
            "1.0\n",
            "2\n",
            "(1+0j)\n"
          ],
          "name": "stdout"
        }
      ]
    },
    {
      "cell_type": "code",
      "metadata": {
        "colab": {
          "base_uri": "https://localhost:8080/"
        },
        "id": "6_yqMBEvNb35",
        "outputId": "507ff289-d94f-4e3f-b9c7-f67b90253adb"
      },
      "source": [
        "x=int(1)\r\n",
        "y=int(2.8)\r\n",
        "z=int(\"3\")\r\n",
        "print(x)\r\n",
        "print(y)\r\n",
        "print(z)\r\n",
        "x=float(1)\r\n",
        "y=float(2.8)\r\n",
        "z=float(\"3\")\r\n",
        "w=float(\"4.2\")\r\n",
        "print(x)\r\n",
        "print(y)\r\n",
        "print(z)\r\n",
        "print(w)\r\n",
        "x=str(\"s1\")\r\n",
        "y=str(2)\r\n",
        "z=str(3.0)\r\n",
        "print(x)\r\n",
        "print(y)\r\n",
        "print(z)\r\n"
      ],
      "execution_count": null,
      "outputs": [
        {
          "output_type": "stream",
          "text": [
            "1\n",
            "2\n",
            "3\n",
            "1.0\n",
            "2.8\n",
            "3.0\n",
            "4.2\n",
            "s1\n",
            "2\n",
            "3.0\n"
          ],
          "name": "stdout"
        }
      ]
    },
    {
      "cell_type": "markdown",
      "metadata": {
        "id": "4-n1_f6RPc7i"
      },
      "source": [
        "#assignment 1"
      ]
    },
    {
      "cell_type": "code",
      "metadata": {
        "colab": {
          "base_uri": "https://localhost:8080/"
        },
        "id": "LdkeuR8DPgxd",
        "outputId": "72528c1a-2c58-4bc5-cdad-08e2d08bb76f"
      },
      "source": [
        "x=int(2)\r\n",
        "y=int(3)\r\n",
        "print(str(x)+str(y))"
      ],
      "execution_count": null,
      "outputs": [
        {
          "output_type": "stream",
          "text": [
            "23\n"
          ],
          "name": "stdout"
        }
      ]
    },
    {
      "cell_type": "code",
      "metadata": {
        "colab": {
          "base_uri": "https://localhost:8080/"
        },
        "id": "7OeI-dqRSMZ2",
        "outputId": "fba28d2a-088d-4067-c02f-5c28019f5337"
      },
      "source": [
        "name=\"JamiRahul\"\r\n",
        "print(name)\r\n",
        "print(type(name))\r\n"
      ],
      "execution_count": null,
      "outputs": [
        {
          "output_type": "stream",
          "text": [
            "JamiRahul\n",
            "<class 'str'>\n"
          ],
          "name": "stdout"
        }
      ]
    },
    {
      "cell_type": "code",
      "metadata": {
        "colab": {
          "base_uri": "https://localhost:8080/"
        },
        "id": "LT1t9XCbSfxv",
        "outputId": "45db284e-5d2d-4f18-a5d6-bc5da096d6f1"
      },
      "source": [
        "a=\"Hello World\"\r\n",
        "print(a[10])"
      ],
      "execution_count": null,
      "outputs": [
        {
          "output_type": "stream",
          "text": [
            "d\n"
          ],
          "name": "stdout"
        }
      ]
    },
    {
      "cell_type": "code",
      "metadata": {
        "colab": {
          "base_uri": "https://localhost:8080/"
        },
        "id": "i0oQMIAMPXau",
        "outputId": "51f5ca01-8e1e-4252-c70f-03a08ecbfb46"
      },
      "source": [
        "name=\"Hello World\"\r\n",
        "print(name[4])\r\n",
        "print(len(name))\r\n"
      ],
      "execution_count": null,
      "outputs": [
        {
          "output_type": "stream",
          "text": [
            "o\n",
            "11\n"
          ],
          "name": "stdout"
        }
      ]
    },
    {
      "cell_type": "code",
      "metadata": {
        "colab": {
          "base_uri": "https://localhost:8080/"
        },
        "id": "gYUNoCh9UAd4",
        "outputId": "f418d15b-a7bf-4046-afb4-76aaf28c2ac6"
      },
      "source": [
        "txt=\"come back\"\r\n",
        "print(\"come\"in txt)\r\n"
      ],
      "execution_count": null,
      "outputs": [
        {
          "output_type": "stream",
          "text": [
            "True\n"
          ],
          "name": "stdout"
        }
      ]
    },
    {
      "cell_type": "code",
      "metadata": {
        "colab": {
          "base_uri": "https://localhost:8080/"
        },
        "id": "UVSeft86Uk0G",
        "outputId": "687e0062-aa99-42b1-b163-11de940fc1ab"
      },
      "source": [
        "txt=\"life is beautiful\"\r\n",
        "print(\"use\"in txt)"
      ],
      "execution_count": null,
      "outputs": [
        {
          "output_type": "stream",
          "text": [
            "False\n"
          ],
          "name": "stdout"
        }
      ]
    },
    {
      "cell_type": "code",
      "metadata": {
        "colab": {
          "base_uri": "https://localhost:8080/"
        },
        "id": "KWTVvoQfUxSX",
        "outputId": "32828ccb-5986-4edc-c772-823847869c7d"
      },
      "source": [
        "txt=\"day is boring\"\r\n",
        "print(txt[0:4])"
      ],
      "execution_count": null,
      "outputs": [
        {
          "output_type": "stream",
          "text": [
            "day \n"
          ],
          "name": "stdout"
        }
      ]
    },
    {
      "cell_type": "code",
      "metadata": {
        "colab": {
          "base_uri": "https://localhost:8080/"
        },
        "id": "pZHHYXTZVLsO",
        "outputId": "45b1ef08-dc28-435d-a6dd-0c31e2bcafed"
      },
      "source": [
        "txt=\"things in life are free[!]\"\r\n",
        "print(txt[6:])"
      ],
      "execution_count": null,
      "outputs": [
        {
          "output_type": "stream",
          "text": [
            " in life are free[!]\n"
          ],
          "name": "stdout"
        }
      ]
    },
    {
      "cell_type": "code",
      "metadata": {
        "colab": {
          "base_uri": "https://localhost:8080/"
        },
        "id": "jf7PpRNPVyp-",
        "outputId": "d6ea0b2d-3ea7-48a6-a7b7-e56dbd6cefaf"
      },
      "source": [
        "txt=\"things in life are free\"\r\n",
        "print(txt[-5:-2])"
      ],
      "execution_count": null,
      "outputs": [
        {
          "output_type": "stream",
          "text": [
            " fr\n"
          ],
          "name": "stdout"
        }
      ]
    },
    {
      "cell_type": "code",
      "metadata": {
        "colab": {
          "base_uri": "https://localhost:8080/"
        },
        "id": "rlu3t9VSWkjY",
        "outputId": "067ff7cb-385b-44e0-993b-9b11741340bd"
      },
      "source": [
        "txt=\"come back\"\r\n",
        "print(txt.upper())"
      ],
      "execution_count": null,
      "outputs": [
        {
          "output_type": "stream",
          "text": [
            "COME BACK\n"
          ],
          "name": "stdout"
        }
      ]
    },
    {
      "cell_type": "code",
      "metadata": {
        "colab": {
          "base_uri": "https://localhost:8080/"
        },
        "id": "EdpGQt1eWupp",
        "outputId": "1b7bde0a-c0cf-4fff-dcbf-a3d841b6e781"
      },
      "source": [
        "txt=\"COME BACK\"\r\n",
        "print(txt.lower())"
      ],
      "execution_count": null,
      "outputs": [
        {
          "output_type": "stream",
          "text": [
            "come back\n"
          ],
          "name": "stdout"
        }
      ]
    },
    {
      "cell_type": "code",
      "metadata": {
        "colab": {
          "base_uri": "https://localhost:8080/"
        },
        "id": "IjTF7H09W45e",
        "outputId": "ca414da9-8443-4ea7-be24-51e115d55f25"
      },
      "source": [
        "a=\"hello\"\r\n",
        "b=\"world\"\r\n",
        "print(a+b)"
      ],
      "execution_count": null,
      "outputs": [
        {
          "output_type": "stream",
          "text": [
            "helloworld\n"
          ],
          "name": "stdout"
        }
      ]
    },
    {
      "cell_type": "code",
      "metadata": {
        "colab": {
          "base_uri": "https://localhost:8080/"
        },
        "id": "r9xNPHZ6Xba-",
        "outputId": "329dfb58-4992-4f5b-cf1d-06492658922b"
      },
      "source": [
        "a=\"hello \"\r\n",
        "b=\"world\"\r\n",
        "print(a+b)"
      ],
      "execution_count": null,
      "outputs": [
        {
          "output_type": "stream",
          "text": [
            "hello world\n"
          ],
          "name": "stdout"
        }
      ]
    },
    {
      "cell_type": "code",
      "metadata": {
        "colab": {
          "base_uri": "https://localhost:8080/"
        },
        "id": "nh-6MtFvXtcH",
        "outputId": "3b142cf4-433f-4718-c0ed-1c838c053ce9"
      },
      "source": [
        "age=19\r\n",
        "txt=\"My Name is janu, and i am {}\"\r\n",
        "print(txt,format(age))"
      ],
      "execution_count": null,
      "outputs": [
        {
          "output_type": "stream",
          "text": [
            "My Name is janu, and i am {} 19\n"
          ],
          "name": "stdout"
        }
      ]
    },
    {
      "cell_type": "code",
      "metadata": {
        "colab": {
          "base_uri": "https://localhost:8080/"
        },
        "id": "uBuA4IU0ZCLP",
        "outputId": "81a93005-1dde-41a4-81d6-f38d9664acee"
      },
      "source": [
        "txt=\"sonali\"\r\n",
        "x=txt.capitalize()\r\n",
        "print(x)"
      ],
      "execution_count": null,
      "outputs": [
        {
          "output_type": "stream",
          "text": [
            "Sonali\n"
          ],
          "name": "stdout"
        }
      ]
    },
    {
      "cell_type": "code",
      "metadata": {
        "colab": {
          "base_uri": "https://localhost:8080/"
        },
        "id": "cHOAKpMUZ494",
        "outputId": "5ce54797-0703-4831-d58d-f7358fc8ce85"
      },
      "source": [
        "txt=\"sonali\"\r\n",
        "x=txt.isupper()\r\n",
        "print(x)"
      ],
      "execution_count": null,
      "outputs": [
        {
          "output_type": "stream",
          "text": [
            "False\n"
          ],
          "name": "stdout"
        }
      ]
    },
    {
      "cell_type": "code",
      "metadata": {
        "colab": {
          "base_uri": "https://localhost:8080/"
        },
        "id": "PQbZVHiBaDKn",
        "outputId": "fc874c09-7ad3-48e0-904f-a98c5a7d1414"
      },
      "source": [
        "txt=\"sonali\"\r\n",
        "x=txt.islower()\r\n",
        "print(x)"
      ],
      "execution_count": null,
      "outputs": [
        {
          "output_type": "stream",
          "text": [
            "True\n"
          ],
          "name": "stdout"
        }
      ]
    },
    {
      "cell_type": "code",
      "metadata": {
        "colab": {
          "base_uri": "https://localhost:8080/"
        },
        "id": "UjTRioyhaSYn",
        "outputId": "ae8dc8c4-016b-4d77-e57d-40d2faaf9277"
      },
      "source": [
        "txt=\"sonali\"\r\n",
        "x=txt.isalpha()\r\n",
        "print(x)\r\n"
      ],
      "execution_count": null,
      "outputs": [
        {
          "output_type": "stream",
          "text": [
            "True\n"
          ],
          "name": "stdout"
        }
      ]
    },
    {
      "cell_type": "code",
      "metadata": {
        "colab": {
          "base_uri": "https://localhost:8080/"
        },
        "id": "_C_Pz_apab7X",
        "outputId": "0e3ca5a4-b11a-4cef-c3d1-e11986a1108b"
      },
      "source": [
        "txt=\"sonali\"\r\n",
        "x=txt.isdigit()\r\n",
        "print(x)"
      ],
      "execution_count": null,
      "outputs": [
        {
          "output_type": "stream",
          "text": [
            "False\n"
          ],
          "name": "stdout"
        }
      ]
    },
    {
      "cell_type": "code",
      "metadata": {
        "colab": {
          "base_uri": "https://localhost:8080/"
        },
        "id": "Ycku8UDzank3",
        "outputId": "0da69bb6-a488-4435-fa9e-b8309aa3cf30"
      },
      "source": [
        "txt=\"sonali\"\r\n",
        "x=txt.isalnum()\r\n",
        "print(x)"
      ],
      "execution_count": null,
      "outputs": [
        {
          "output_type": "stream",
          "text": [
            "True\n"
          ],
          "name": "stdout"
        }
      ]
    },
    {
      "cell_type": "markdown",
      "metadata": {
        "id": "hG9vFzzrql7h"
      },
      "source": [
        "# Assignment 2"
      ]
    },
    {
      "cell_type": "code",
      "metadata": {
        "colab": {
          "base_uri": "https://localhost:8080/"
        },
        "id": "Ul25NLSNqvAx",
        "outputId": "7bef04fe-bc76-4e8b-ade0-168ac4f1a35a"
      },
      "source": [
        "name=\"alvas\"\r\n",
        "print(name)\r\n",
        "print(len(name))\r\n",
        "print(name[0:4])\r\n",
        "print(name.upper())\r\n",
        "txt=\" college\"\r\n",
        "print(name.format(txt))\r\n",
        "print(name+txt)\r\n",
        "print(name.isdigit())\r\n"
      ],
      "execution_count": 94,
      "outputs": [
        {
          "output_type": "stream",
          "text": [
            "alvas\n",
            "5\n",
            "alva\n",
            "ALVAS\n",
            "alvas\n",
            "alvas college\n",
            "False\n"
          ],
          "name": "stdout"
        }
      ]
    },
    {
      "cell_type": "code",
      "metadata": {
        "colab": {
          "base_uri": "https://localhost:8080/"
        },
        "id": "KbyvSde2ulUa",
        "outputId": "ad23f71d-4b95-4f32-bf78-d259b6c3376d"
      },
      "source": [
        "print(10>9)"
      ],
      "execution_count": 95,
      "outputs": [
        {
          "output_type": "stream",
          "text": [
            "True\n"
          ],
          "name": "stdout"
        }
      ]
    },
    {
      "cell_type": "code",
      "metadata": {
        "colab": {
          "base_uri": "https://localhost:8080/"
        },
        "id": "O3MxLv_Vu9JS",
        "outputId": "cf2c643b-30af-4f6f-b89e-8afc686cbde9"
      },
      "source": [
        "print(10==9)"
      ],
      "execution_count": 96,
      "outputs": [
        {
          "output_type": "stream",
          "text": [
            "False\n"
          ],
          "name": "stdout"
        }
      ]
    },
    {
      "cell_type": "code",
      "metadata": {
        "colab": {
          "base_uri": "https://localhost:8080/"
        },
        "id": "vgkh3c0nvBbq",
        "outputId": "f7820891-775e-4985-c6c3-e970e6644ab6"
      },
      "source": [
        "print(10==10)"
      ],
      "execution_count": 97,
      "outputs": [
        {
          "output_type": "stream",
          "text": [
            "True\n"
          ],
          "name": "stdout"
        }
      ]
    },
    {
      "cell_type": "code",
      "metadata": {
        "colab": {
          "base_uri": "https://localhost:8080/"
        },
        "id": "ZvRBTRg7vRKV",
        "outputId": "394db1d0-a4f1-4d0a-ff44-2163356b243f"
      },
      "source": [
        "x=10\r\n",
        "y=5\r\n",
        "print(x+y)\r\n",
        "print(x-y)\r\n",
        "print(x*y)\r\n",
        "print(x%y)\r\n",
        "print(x/y)"
      ],
      "execution_count": 99,
      "outputs": [
        {
          "output_type": "stream",
          "text": [
            "15\n",
            "5\n",
            "50\n",
            "0\n",
            "2.0\n"
          ],
          "name": "stdout"
        }
      ]
    },
    {
      "cell_type": "code",
      "metadata": {
        "colab": {
          "base_uri": "https://localhost:8080/"
        },
        "id": "Eam1umBmwBlU",
        "outputId": "b4a8683d-bc88-4025-eb04-575949125588"
      },
      "source": [
        "x=5\r\n",
        "x-=2\r\n",
        "print(x)"
      ],
      "execution_count": 105,
      "outputs": [
        {
          "output_type": "stream",
          "text": [
            "3\n"
          ],
          "name": "stdout"
        }
      ]
    },
    {
      "cell_type": "code",
      "metadata": {
        "colab": {
          "base_uri": "https://localhost:8080/"
        },
        "id": "gHhfmul7w36f",
        "outputId": "f787fa3c-2d03-4b7a-d220-ccfd340fc880"
      },
      "source": [
        "x=3\r\n",
        "x+=4\r\n",
        "print(x)"
      ],
      "execution_count": 103,
      "outputs": [
        {
          "output_type": "stream",
          "text": [
            "7\n"
          ],
          "name": "stdout"
        }
      ]
    },
    {
      "cell_type": "code",
      "metadata": {
        "colab": {
          "base_uri": "https://localhost:8080/"
        },
        "id": "v3kKnW1RwvlU",
        "outputId": "369c4c6f-f7c0-4431-e840-ec57cf09fd41"
      },
      "source": [
        "x=12\r\n",
        "y=6\r\n",
        "print(x==y)\r\n",
        "print(x!=y)\r\n",
        "print(x>y)\r\n",
        "print(x<y)\r\n"
      ],
      "execution_count": 106,
      "outputs": [
        {
          "output_type": "stream",
          "text": [
            "False\n",
            "True\n",
            "True\n",
            "False\n"
          ],
          "name": "stdout"
        }
      ]
    },
    {
      "cell_type": "code",
      "metadata": {
        "colab": {
          "base_uri": "https://localhost:8080/"
        },
        "id": "HiY9YFO5yFGS",
        "outputId": "d6ebc71b-f623-4ce1-d6f3-0b2ce5fb894f"
      },
      "source": [
        "print(3<0 and 3<8)"
      ],
      "execution_count": 107,
      "outputs": [
        {
          "output_type": "stream",
          "text": [
            "False\n"
          ],
          "name": "stdout"
        }
      ]
    },
    {
      "cell_type": "code",
      "metadata": {
        "colab": {
          "base_uri": "https://localhost:8080/"
        },
        "id": "Pyu6FTWqyNIQ",
        "outputId": "0b9a3ce9-4b6d-43eb-c707-3d6ea32ed30d"
      },
      "source": [
        "print(3<0 or 3<8)"
      ],
      "execution_count": 108,
      "outputs": [
        {
          "output_type": "stream",
          "text": [
            "True\n"
          ],
          "name": "stdout"
        }
      ]
    },
    {
      "cell_type": "code",
      "metadata": {
        "colab": {
          "base_uri": "https://localhost:8080/",
          "height": 248
        },
        "id": "XCXaalK9yqdK",
        "outputId": "7392ac6c-2b82-41b7-d148-dccddaf88ac7"
      },
      "source": [
        "x = int(input(\"enter value\"))\r\n",
        "print(x)\r\n",
        "inp2=int(input(\"enter value\"))\r\n",
        "print(int2)\r\n",
        "print(int1 + inp2)\r\n",
        "print(int1 - inp2)\r\n",
        "print(int1 * inp2)\r\n",
        "print(int1 % inp2)\r\n",
        "print(int1 / inp2)"
      ],
      "execution_count": 125,
      "outputs": [
        {
          "output_type": "stream",
          "text": [
            "enter value2\n"
          ],
          "name": "stdout"
        },
        {
          "output_type": "error",
          "ename": "TypeError",
          "evalue": "ignored",
          "traceback": [
            "\u001b[0;31m---------------------------------------------------------------------------\u001b[0m",
            "\u001b[0;31mTypeError\u001b[0m                                 Traceback (most recent call last)",
            "\u001b[0;32m<ipython-input-125-f49d484bd9f3>\u001b[0m in \u001b[0;36m<module>\u001b[0;34m()\u001b[0m\n\u001b[0;32m----> 1\u001b[0;31m \u001b[0mx\u001b[0m \u001b[0;34m=\u001b[0m \u001b[0mint\u001b[0m\u001b[0;34m(\u001b[0m\u001b[0minput\u001b[0m\u001b[0;34m(\u001b[0m\u001b[0;34m\"enter value\"\u001b[0m\u001b[0;34m)\u001b[0m\u001b[0;34m)\u001b[0m\u001b[0;34m\u001b[0m\u001b[0;34m\u001b[0m\u001b[0m\n\u001b[0m\u001b[1;32m      2\u001b[0m \u001b[0mprint\u001b[0m\u001b[0;34m(\u001b[0m\u001b[0mx\u001b[0m\u001b[0;34m)\u001b[0m\u001b[0;34m\u001b[0m\u001b[0;34m\u001b[0m\u001b[0m\n\u001b[1;32m      3\u001b[0m \u001b[0minp2\u001b[0m\u001b[0;34m=\u001b[0m\u001b[0mint\u001b[0m\u001b[0;34m(\u001b[0m\u001b[0minput\u001b[0m\u001b[0;34m(\u001b[0m\u001b[0;34m\"enter value\"\u001b[0m\u001b[0;34m)\u001b[0m\u001b[0;34m)\u001b[0m\u001b[0;34m\u001b[0m\u001b[0;34m\u001b[0m\u001b[0m\n\u001b[1;32m      4\u001b[0m \u001b[0mprint\u001b[0m\u001b[0;34m(\u001b[0m\u001b[0mint2\u001b[0m\u001b[0;34m)\u001b[0m\u001b[0;34m\u001b[0m\u001b[0;34m\u001b[0m\u001b[0m\n\u001b[1;32m      5\u001b[0m \u001b[0mprint\u001b[0m\u001b[0;34m(\u001b[0m\u001b[0mint1\u001b[0m \u001b[0;34m+\u001b[0m \u001b[0minp2\u001b[0m\u001b[0;34m)\u001b[0m\u001b[0;34m\u001b[0m\u001b[0;34m\u001b[0m\u001b[0m\n",
            "\u001b[0;31mTypeError\u001b[0m: 'int' object is not callable"
          ]
        }
      ]
    }
  ]
}